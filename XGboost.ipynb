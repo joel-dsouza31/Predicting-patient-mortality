{
 "cells": [
  {
   "cell_type": "code",
   "execution_count": 2,
   "metadata": {},
   "outputs": [],
   "source": [
    "from IPython.display import display_html\n",
    "from sqlalchemy import create_engine\n",
    "import pandas as pd\n",
    "# Import libraries\n",
    "import numpy as np\n",
    "import pandas as pd\n",
    "import matplotlib.pyplot as plt\n",
    "import psycopg2\n",
    "import getpass\n",
    "import pdvega\n",
    "\n",
    "# for configuring connection \n",
    "from configobj import ConfigObj\n",
    "import os\n",
    "\n",
    "from IPython.display import display_html\n",
    "from sqlalchemy import create_engine\n",
    "\n",
    "config='../db/config.ini'\n",
    "\n",
    "# connection info\n",
    "conn_info = dict()\n",
    "if os.path.isfile(config):\n",
    "    config = ConfigObj(config)\n",
    "    conn_info[\"sqluser\"] = config['username']\n",
    "    conn_info[\"sqlpass\"] = config['password']\n",
    "    conn_info[\"sqlhost\"] = config['host']\n",
    "    conn_info[\"sqlport\"] = config['port']\n",
    "    conn_info[\"dbname\"] = config['dbname']\n",
    "    conn_info[\"schema_name\"] = config['schema_name']\n",
    "else:\n",
    "    conn_info[\"sqluser\"] = 'postgres'\n",
    "    conn_info[\"sqlpass\"] = ''\n",
    "    conn_info[\"sqlhost\"] = 'localhost'\n",
    "    conn_info[\"sqlport\"] = 5433\n",
    "    conn_info[\"dbname\"] = 'eicu'\n",
    "    conn_info[\"schema_name\"] = 'eicu'"
   ]
  },
  {
   "cell_type": "code",
   "execution_count": 3,
   "metadata": {},
   "outputs": [],
   "source": [
    "import warnings\n",
    "warnings.filterwarnings(\"ignore\")\n"
   ]
  },
  {
   "cell_type": "code",
   "execution_count": 5,
   "metadata": {},
   "outputs": [
    {
     "name": "stdout",
     "output_type": "stream",
     "text": [
      "Database: eicu\n",
      "Username: postgres\n",
      "Password: ········\n"
     ]
    }
   ],
   "source": [
    "# Connect to the eICU database\n",
    "print('Database: {}'.format(conn_info['dbname']))\n",
    "print('Username: {}'.format(conn_info[\"sqluser\"]))\n",
    "if conn_info[\"sqlpass\"] == '':\n",
    "    # try connecting without password, i.e. peer or OS authentication\n",
    "    try:\n",
    "        if (conn_info[\"sqlhost\"] == 'localhost') & (conn_info[\"sqlport\"]=='5432'):\n",
    "            con = psycopg2.connect(dbname=conn_info[\"dbname\"],\n",
    "                                   user=conn_info[\"sqluser\"])            \n",
    "        else:\n",
    "            con = psycopg2.connect(dbname=conn_info[\"dbname\"],\n",
    "                                   host=conn_info[\"sqlhost\"],\n",
    "                                   port=conn_info[\"sqlport\"],\n",
    "                                   user=conn_info[\"sqluser\"])\n",
    "    except:\n",
    "        conn_info[\"sqlpass\"] = getpass.getpass('Password: ')\n",
    "\n",
    "        con = psycopg2.connect(dbname=conn_info[\"dbname\"],\n",
    "                               host=conn_info[\"sqlhost\"],\n",
    "                               port=conn_info[\"sqlport\"],\n",
    "                               user=conn_info[\"sqluser\"],\n",
    "                               password=conn_info[\"sqlpass\"])\n",
    "query_schema = 'set search_path to ' + conn_info['schema_name'] + ';'"
   ]
  },
  {
   "cell_type": "code",
   "execution_count": 6,
   "metadata": {},
   "outputs": [],
   "source": [
    "patient = pd.read_sql('SELECT * FROM eicu.patient', con)\n",
    "#diagnosis = pd.read_sql('SELECT * FROM diagnosis', con)\n",
    "apache = pd.read_sql('SELECT * FROM eicu.apacheapsvar', con)\n",
    "\n",
    "result1 = pd.merge(patient,\n",
    "                 apache,\n",
    "                 on=\"patientunitstayid\", \n",
    "                 how='inner')"
   ]
  },
  {
   "cell_type": "code",
   "execution_count": 7,
   "metadata": {},
   "outputs": [
    {
     "name": "stdout",
     "output_type": "stream",
     "text": [
      "Index(['patientunitstayid', 'patienthealthsystemstayid', 'gender', 'age',\n",
      "       'ethnicity', 'hospitalid', 'wardid', 'apacheadmissiondx',\n",
      "       'admissionheight', 'hospitaladmittime24', 'hospitaladmitoffset',\n",
      "       'hospitaladmitsource', 'hospitaldischargeyear',\n",
      "       'hospitaldischargetime24', 'hospitaldischargeoffset',\n",
      "       'hospitaldischargelocation', 'hospitaldischargestatus', 'unittype',\n",
      "       'unitadmittime24', 'unitadmitsource', 'unitvisitnumber', 'unitstaytype',\n",
      "       'admissionweight', 'dischargeweight', 'unitdischargetime24',\n",
      "       'unitdischargeoffset', 'unitdischargelocation', 'unitdischargestatus',\n",
      "       'uniquepid'],\n",
      "      dtype='object')\n"
     ]
    }
   ],
   "source": [
    "hospital = pd.read_sql('Select * from eicu.hospital',con)\n",
    "print(patient.columns)"
   ]
  },
  {
   "cell_type": "code",
   "execution_count": 9,
   "metadata": {
    "scrolled": false
   },
   "outputs": [],
   "source": [
    "# print(labs.columns)\n",
    "# print(vital.columns)\n",
    "# print(vital.patientunitstayid.unique())\n",
    "#print(patient_count.head(50))"
   ]
  },
  {
   "cell_type": "code",
   "execution_count": 10,
   "metadata": {},
   "outputs": [
    {
     "name": "stdout",
     "output_type": "stream",
     "text": [
      "Index(['patientunitstayid', 'gender', 'age', 'hospitalid',\n",
      "       'hospitaldischargestatus', 'vent', 'eyes', 'motor', 'verbal', 'urine',\n",
      "       'wbc', 'temperature', 'respiratoryrate', 'sodium', 'heartrate', 'ph',\n",
      "       'pao2', 'bun', 'bilirubin', 'fio2'],\n",
      "      dtype='object')\n"
     ]
    }
   ],
   "source": [
    "result=result1.drop(['patienthealthsystemstayid', 'ethnicity','wardid','apacheadmissiondx','admissionheight','hospitaladmittime24',\n",
    "        'hospitaladmitoffset','hospitaladmitsource', 'hospitaldischargeyear',\n",
    "       'hospitaldischargetime24', 'hospitaldischargeoffset',\n",
    "       'hospitaldischargelocation','unittype',\n",
    "       'unitadmittime24', 'unitadmitsource', 'unitvisitnumber', 'unitstaytype',\n",
    "       'admissionweight', 'dischargeweight', 'unitdischargetime24','meanbp',\n",
    "       'unitdischargeoffset', 'unitdischargelocation', 'unitdischargestatus',\n",
    "       'uniquepid','apacheapsvarid', 'intubated','dialysis','meds', 'hematocrit',\n",
    "       'creatinine', 'albumin','pco2','glucose'],axis = 1)\n",
    "print(result.columns)"
   ]
  },
  {
   "cell_type": "code",
   "execution_count": 11,
   "metadata": {},
   "outputs": [
    {
     "name": "stdout",
     "output_type": "stream",
     "text": [
      "Index(['patientunitstayid', 'gender', 'age', 'hospitalid',\n",
      "       'hospitaldischargestatus', 'vent', 'eyes', 'motor', 'verbal', 'urine',\n",
      "       'wbc', 'temperature', 'respiratoryrate', 'sodium', 'heartrate', 'ph',\n",
      "       'pao2', 'bun', 'bilirubin', 'fio2', 'numbedscategory', 'teachingstatus',\n",
      "       'region'],\n",
      "      dtype='object')\n"
     ]
    }
   ],
   "source": [
    "result2 = pd.merge(result,\n",
    "                 hospital,\n",
    "                 on=\"hospitalid\", \n",
    "                 how='inner')\n",
    "\n",
    "print(result2.columns)"
   ]
  },
  {
   "cell_type": "code",
   "execution_count": 12,
   "metadata": {},
   "outputs": [
    {
     "name": "stdout",
     "output_type": "stream",
     "text": [
      "<class 'numpy.int64'>\n"
     ]
    }
   ],
   "source": [
    "ids = (result.hospitalid.unique())\n",
    "print(type(ids[0]))"
   ]
  },
  {
   "cell_type": "code",
   "execution_count": 16,
   "metadata": {},
   "outputs": [
    {
     "name": "stdout",
     "output_type": "stream",
     "text": [
      "(153037, 32) (16073, 32)\n",
      "[[ 2355   860]\n",
      " [ 7105 23502]]\n",
      "Index(['patientunitstayid', 'gender', 'age', 'hospitalid',\n",
      "       'hospitaldischargestatus', 'vent', 'eyes', 'motor', 'verbal', 'urine',\n",
      "       'wbc', 'temperature', 'respiratoryrate', 'sodium', 'heartrate', 'ph',\n",
      "       'pao2', 'bun', 'bilirubin', 'fio2', 'numbedscategory', 'teachingstatus',\n",
      "       'region'],\n",
      "      dtype='object')\n",
      "[[ 2.65344872e-02  8.63350598e-01  8.67934635e-01  1.29372595e-01\n",
      "   0.00000000e+00 -6.14857505e-02 -1.71145598e-01  1.17926485e-01\n",
      "  -4.38721203e-01  1.42402981e-01 -2.19792860e-01 -9.51413556e-02\n",
      "  -1.37811304e-01 -3.45028440e-02 -1.14334468e-03 -7.78601938e-01\n",
      "   4.48665221e-02  2.22828945e-01  9.69131435e-02  1.54078943e-04\n",
      "  -1.40278467e-02  1.39703814e-02 -1.93596823e-02  7.35603637e-03\n",
      "  -1.01367462e-02  4.89091441e-02  2.30898919e-03 -1.76570741e-02\n",
      "  -1.39690487e-01 -1.76851335e-02]]\n",
      "0.8551001473557823\n",
      "0.750183724324135\n"
     ]
    }
   ],
   "source": [
    "from sklearn.linear_model import LogisticRegression, Ridge, Lasso\n",
    "from sklearn.model_selection import train_test_split\n",
    "import numpy as np\n",
    "from sklearn.metrics import f1_score, confusion_matrix\n",
    "from sklearn.model_selection import GridSearchCV\n",
    "from sklearn.metrics import roc_auc_score\n",
    "\n",
    "X_temp = result2\n",
    "X_temp = X_temp[X_temp.hospitaldischargestatus != '']\n",
    "# X_temp=X_temp.dropna()\n",
    "\n",
    "# Mean Imputation for Age\n",
    "X_temp.replace({'age': {'': '0','> 89': '91'}},inplace=True)\n",
    "X_temp = X_temp.astype({\"age\": np.int})\n",
    "X_temp.replace({'age': {0: int(X_temp.age.mean())}},inplace=True)\n",
    "# print(X_temp.age.unique())\n",
    "\n",
    "# Removing age below 18\n",
    "X_temp = X_temp[X_temp.age >= 18]\n",
    "\n",
    "# Removing records with no gender given\n",
    "X_temp = X_temp[X_temp.gender != '']\n",
    "\n",
    "hds = pd.DataFrame(X_temp['hospitaldischargestatus'])\n",
    "X_temp.drop(['hospitaldischargestatus'],axis=1,inplace=True)\n",
    "\n",
    "X_cat = X_temp.select_dtypes(exclude=['int64', 'float64'])                                                                                                         \n",
    "X_dog = X_temp.select_dtypes(include=['int64', 'float64'])                                                                                                         \n",
    "\n",
    "X_cat = pd.get_dummies(X_cat)                                                                                                                                 \n",
    "\n",
    "X_temp=pd.concat([X_cat,X_dog,hds],axis=1)\n",
    "\n",
    "hds = pd.DataFrame(X_temp.hospitaldischargestatus.map({'Alive': 1, 'Expired': 0}))\n",
    "X_temp['hospitaldischargestatus'] = hds['hospitaldischargestatus']\n",
    "\n",
    "X_alive = X_temp.loc[X_temp['hospitaldischargestatus'] == 1]\n",
    "X_expired = X_temp.loc[X_temp['hospitaldischargestatus'] == 0]\n",
    "\n",
    "print(X_alive.shape,X_expired.shape)\n",
    "\n",
    "# X_alive_restricted = X_alive.tail(16000)\n",
    "\n",
    "# X_temp = X_alive_restricted.append(X_expired)\n",
    "\n",
    "X = pd.DataFrame(X_temp.drop(['patientunitstayid'],axis=1))\n",
    "Y = pd.DataFrame(X_temp['hospitaldischargestatus'])                \n",
    "X = pd.DataFrame(X.drop(['hospitaldischargestatus'],axis=1))\n",
    "\n",
    "X_train, X_test, y_train, y_test = train_test_split(X, Y, test_size=0.20, stratify=Y)\n",
    "\n",
    "log_regressor   = LogisticRegression(penalty='l1', max_iter = 1e8, class_weight='balanced')\n",
    "# log_regressor = GridSearchCV(estimator=log_regressor, param_grid={'C':np.logspace(-4,4,10)}, cv= 5)\n",
    "log_regressor.fit(X_train, y_train)\n",
    "\n",
    "pred =pd.DataFrame(log_regressor.predict(X_test),columns=[\"a\"])\n",
    "log_f1_score=(f1_score(y_test,pred))\n",
    "\n",
    "print(confusion_matrix(y_test,pred))\n",
    "print(result2.columns)\n",
    "print(log_regressor.coef_)\n",
    "\n",
    "print(log_f1_score)\n",
    "auroc = roc_auc_score(y_test, pred)\n",
    "print(auroc)"
   ]
  },
  {
   "cell_type": "code",
   "execution_count": 17,
   "metadata": {},
   "outputs": [
    {
     "name": "stdout",
     "output_type": "stream",
     "text": [
      "[[ 10   4]\n",
      " [ 81 479]]\n",
      "0.9185043144774688\n",
      "0.7848214285714286\n",
      "[[  2   8]\n",
      " [ 37 269]]\n",
      "0.9228130360205832\n",
      "0.5395424836601307\n",
      "[[ 354  134]\n",
      " [1178 4309]]\n",
      "0.8678751258811681\n",
      "0.7553602852644252\n",
      "[[ 16   8]\n",
      " [ 61 253]]\n",
      "0.88\n",
      "0.73619957537155\n",
      "[[ 25  16]\n",
      " [131 616]]\n",
      "0.8934010152284264\n",
      "0.7171939791687074\n",
      "[[ 58  37]\n",
      " [187 986]]\n",
      "0.8979963570127505\n",
      "0.7255530129672005\n",
      "[[ 28   8]\n",
      " [130 652]]\n",
      "0.9042995839112344\n",
      "0.8057686842853082\n",
      "[[  3   7]\n",
      " [ 32 193]]\n",
      "0.908235294117647\n",
      "0.5788888888888889\n",
      "[[ 15   2]\n",
      " [ 89 396]]\n",
      "0.8969422423556059\n",
      "0.8494238932686475\n",
      "[[ 17   5]\n",
      " [ 83 386]]\n",
      "0.8976744186046511\n",
      "0.7978774956386897\n",
      "[[ 246   79]\n",
      " [ 998 2206]]\n",
      "0.8037893969757697\n",
      "0.7227187169883799\n",
      "[[ 10   4]\n",
      " [ 35 200]]\n",
      "0.9111617312072893\n",
      "0.7826747720364742\n",
      "[[  5   5]\n",
      " [ 22 145]]\n",
      "0.9148264984227129\n",
      "0.6841317365269461\n",
      "[[108  45]\n",
      " [372 774]]\n",
      "0.7877862595419847\n",
      "0.6906375115491222\n",
      "[[  94   52]\n",
      " [ 192 1338]]\n",
      "0.9164383561643835\n",
      "0.7591727101799625\n",
      "[[ 232   91]\n",
      " [ 645 1866]]\n",
      "0.8352730528200538\n",
      "0.730698240435582\n",
      "[[ 18  13]\n",
      " [ 61 481]]\n",
      "0.9285714285714285\n",
      "0.7340495179145339\n",
      "[[  8  11]\n",
      " [ 31 291]]\n",
      "0.9326923076923077\n",
      "0.6623896698267407\n",
      "[[ 3  3]\n",
      " [10 44]]\n",
      "0.8712871287128713\n",
      "0.6574074074074074\n",
      "[[  3   4]\n",
      " [ 15 225]]\n",
      "0.9594882729211087\n",
      "0.6830357142857143\n",
      "[[ 3  2]\n",
      " [ 4 35]]\n",
      "0.9210526315789475\n",
      "0.7487179487179487\n",
      "[[ 4  3]\n",
      " [ 7 40]]\n",
      "0.888888888888889\n",
      "0.7112462006079027\n"
     ]
    },
    {
     "ename": "ValueError",
     "evalue": "Only one class present in y_true. ROC AUC score is not defined in that case.",
     "output_type": "error",
     "traceback": [
      "\u001b[1;31m---------------------------------------------------------------------------\u001b[0m",
      "\u001b[1;31mValueError\u001b[0m                                Traceback (most recent call last)",
      "\u001b[1;32m<ipython-input-17-219b6eb3494c>\u001b[0m in \u001b[0;36m<module>\u001b[1;34m\u001b[0m\n\u001b[0;32m     27\u001b[0m         \u001b[0mpred\u001b[0m \u001b[1;33m=\u001b[0m\u001b[0mpd\u001b[0m\u001b[1;33m.\u001b[0m\u001b[0mDataFrame\u001b[0m\u001b[1;33m(\u001b[0m\u001b[0mlog_regressor\u001b[0m\u001b[1;33m.\u001b[0m\u001b[0mpredict\u001b[0m\u001b[1;33m(\u001b[0m\u001b[0mX_test\u001b[0m\u001b[1;33m)\u001b[0m\u001b[1;33m,\u001b[0m\u001b[0mcolumns\u001b[0m\u001b[1;33m=\u001b[0m\u001b[1;33m[\u001b[0m\u001b[1;34m\"a\"\u001b[0m\u001b[1;33m]\u001b[0m\u001b[1;33m)\u001b[0m\u001b[1;33m\u001b[0m\u001b[1;33m\u001b[0m\u001b[0m\n\u001b[0;32m     28\u001b[0m         \u001b[0mlog_f1_score\u001b[0m\u001b[1;33m=\u001b[0m\u001b[1;33m(\u001b[0m\u001b[0mf1_score\u001b[0m\u001b[1;33m(\u001b[0m\u001b[0my_test\u001b[0m\u001b[1;33m,\u001b[0m\u001b[0mpred\u001b[0m\u001b[1;33m)\u001b[0m\u001b[1;33m)\u001b[0m\u001b[1;33m\u001b[0m\u001b[1;33m\u001b[0m\u001b[0m\n\u001b[1;32m---> 29\u001b[1;33m         \u001b[0mauroc\u001b[0m \u001b[1;33m=\u001b[0m \u001b[0mroc_auc_score\u001b[0m\u001b[1;33m(\u001b[0m\u001b[0my_test\u001b[0m\u001b[1;33m,\u001b[0m \u001b[0mpred\u001b[0m\u001b[1;33m)\u001b[0m\u001b[1;33m\u001b[0m\u001b[1;33m\u001b[0m\u001b[0m\n\u001b[0m\u001b[0;32m     30\u001b[0m \u001b[1;33m\u001b[0m\u001b[0m\n\u001b[0;32m     31\u001b[0m         \u001b[0mprint\u001b[0m\u001b[1;33m(\u001b[0m\u001b[0mconfusion_matrix\u001b[0m\u001b[1;33m(\u001b[0m\u001b[0my_test\u001b[0m\u001b[1;33m,\u001b[0m\u001b[0mpred\u001b[0m\u001b[1;33m)\u001b[0m\u001b[1;33m)\u001b[0m\u001b[1;33m\u001b[0m\u001b[1;33m\u001b[0m\u001b[0m\n",
      "\u001b[1;32m~\\Anaconda3\\lib\\site-packages\\sklearn\\metrics\\ranking.py\u001b[0m in \u001b[0;36mroc_auc_score\u001b[1;34m(y_true, y_score, average, sample_weight, max_fpr)\u001b[0m\n\u001b[0;32m    353\u001b[0m     return _average_binary_score(\n\u001b[0;32m    354\u001b[0m         \u001b[0m_binary_roc_auc_score\u001b[0m\u001b[1;33m,\u001b[0m \u001b[0my_true\u001b[0m\u001b[1;33m,\u001b[0m \u001b[0my_score\u001b[0m\u001b[1;33m,\u001b[0m \u001b[0maverage\u001b[0m\u001b[1;33m,\u001b[0m\u001b[1;33m\u001b[0m\u001b[1;33m\u001b[0m\u001b[0m\n\u001b[1;32m--> 355\u001b[1;33m         sample_weight=sample_weight)\n\u001b[0m\u001b[0;32m    356\u001b[0m \u001b[1;33m\u001b[0m\u001b[0m\n\u001b[0;32m    357\u001b[0m \u001b[1;33m\u001b[0m\u001b[0m\n",
      "\u001b[1;32m~\\Anaconda3\\lib\\site-packages\\sklearn\\metrics\\base.py\u001b[0m in \u001b[0;36m_average_binary_score\u001b[1;34m(binary_metric, y_true, y_score, average, sample_weight)\u001b[0m\n\u001b[0;32m     74\u001b[0m \u001b[1;33m\u001b[0m\u001b[0m\n\u001b[0;32m     75\u001b[0m     \u001b[1;32mif\u001b[0m \u001b[0my_type\u001b[0m \u001b[1;33m==\u001b[0m \u001b[1;34m\"binary\"\u001b[0m\u001b[1;33m:\u001b[0m\u001b[1;33m\u001b[0m\u001b[1;33m\u001b[0m\u001b[0m\n\u001b[1;32m---> 76\u001b[1;33m         \u001b[1;32mreturn\u001b[0m \u001b[0mbinary_metric\u001b[0m\u001b[1;33m(\u001b[0m\u001b[0my_true\u001b[0m\u001b[1;33m,\u001b[0m \u001b[0my_score\u001b[0m\u001b[1;33m,\u001b[0m \u001b[0msample_weight\u001b[0m\u001b[1;33m=\u001b[0m\u001b[0msample_weight\u001b[0m\u001b[1;33m)\u001b[0m\u001b[1;33m\u001b[0m\u001b[1;33m\u001b[0m\u001b[0m\n\u001b[0m\u001b[0;32m     77\u001b[0m \u001b[1;33m\u001b[0m\u001b[0m\n\u001b[0;32m     78\u001b[0m     \u001b[0mcheck_consistent_length\u001b[0m\u001b[1;33m(\u001b[0m\u001b[0my_true\u001b[0m\u001b[1;33m,\u001b[0m \u001b[0my_score\u001b[0m\u001b[1;33m,\u001b[0m \u001b[0msample_weight\u001b[0m\u001b[1;33m)\u001b[0m\u001b[1;33m\u001b[0m\u001b[1;33m\u001b[0m\u001b[0m\n",
      "\u001b[1;32m~\\Anaconda3\\lib\\site-packages\\sklearn\\metrics\\ranking.py\u001b[0m in \u001b[0;36m_binary_roc_auc_score\u001b[1;34m(y_true, y_score, sample_weight)\u001b[0m\n\u001b[0;32m    321\u001b[0m     \u001b[1;32mdef\u001b[0m \u001b[0m_binary_roc_auc_score\u001b[0m\u001b[1;33m(\u001b[0m\u001b[0my_true\u001b[0m\u001b[1;33m,\u001b[0m \u001b[0my_score\u001b[0m\u001b[1;33m,\u001b[0m \u001b[0msample_weight\u001b[0m\u001b[1;33m=\u001b[0m\u001b[1;32mNone\u001b[0m\u001b[1;33m)\u001b[0m\u001b[1;33m:\u001b[0m\u001b[1;33m\u001b[0m\u001b[1;33m\u001b[0m\u001b[0m\n\u001b[0;32m    322\u001b[0m         \u001b[1;32mif\u001b[0m \u001b[0mlen\u001b[0m\u001b[1;33m(\u001b[0m\u001b[0mnp\u001b[0m\u001b[1;33m.\u001b[0m\u001b[0munique\u001b[0m\u001b[1;33m(\u001b[0m\u001b[0my_true\u001b[0m\u001b[1;33m)\u001b[0m\u001b[1;33m)\u001b[0m \u001b[1;33m!=\u001b[0m \u001b[1;36m2\u001b[0m\u001b[1;33m:\u001b[0m\u001b[1;33m\u001b[0m\u001b[1;33m\u001b[0m\u001b[0m\n\u001b[1;32m--> 323\u001b[1;33m             raise ValueError(\"Only one class present in y_true. ROC AUC score \"\n\u001b[0m\u001b[0;32m    324\u001b[0m                              \"is not defined in that case.\")\n\u001b[0;32m    325\u001b[0m \u001b[1;33m\u001b[0m\u001b[0m\n",
      "\u001b[1;31mValueError\u001b[0m: Only one class present in y_true. ROC AUC score is not defined in that case."
     ]
    }
   ],
   "source": [
    "# Leave one hospital out\n",
    "\n",
    "avg_f1 = 0\n",
    "avg_auroc = 0\n",
    "count =0\n",
    "for i in ids:\n",
    "\n",
    "    X_train = X_temp[X_temp.hospitalid != i]\n",
    "    X_test = X_temp[X_temp.hospitalid == i]\n",
    "\n",
    "    X_train = pd.DataFrame(X_train.drop(['patientunitstayid'],axis=1))\n",
    "    X_test = pd.DataFrame(X_test.drop(['patientunitstayid'],axis=1))\n",
    "\n",
    "    y_train = pd.DataFrame(X_train['hospitaldischargestatus'])                \n",
    "    y_test = pd.DataFrame(X_test['hospitaldischargestatus'])                \n",
    "\n",
    "    X_train = pd.DataFrame(X_train.drop(['hospitaldischargestatus'],axis=1))\n",
    "    X_test = pd.DataFrame(X_test.drop(['hospitaldischargestatus'],axis=1))\n",
    "\n",
    "    \n",
    "    if not X_test.empty:\n",
    "        \n",
    "        count+=1\n",
    "        log_regressor   = LogisticRegression(penalty='l2', max_iter = 1e8, class_weight='balanced')\n",
    "        log_regressor.fit(X_train, y_train)\n",
    "\n",
    "        pred =pd.DataFrame(log_regressor.predict(X_test),columns=[\"a\"])\n",
    "        log_f1_score=(f1_score(y_test,pred))\n",
    "        auroc = roc_auc_score(y_test, pred)\n",
    "\n",
    "        print(confusion_matrix(y_test,pred))\n",
    "        \n",
    "        # print(X_train.columns)\n",
    "        #     print(log_regressor.coef_)\n",
    "\n",
    "        avg_f1 += log_f1_score\n",
    "        avg_auroc += auroc\n",
    "        print(log_f1_score)\n",
    "        print(auroc)\n",
    "#         break\n",
    "\n",
    "print(\"avg f1 =\", avg_f1/count)\n",
    "print(\"avg auroc =\", avg_auroc/count)"
   ]
  },
  {
   "cell_type": "code",
   "execution_count": 18,
   "metadata": {
    "scrolled": true
   },
   "outputs": [
    {
     "name": "stderr",
     "output_type": "stream",
     "text": [
      "Using TensorFlow backend.\n"
     ]
    },
    {
     "name": "stdout",
     "output_type": "stream",
     "text": [
      "   teachingstatus  gender_Female  gender_Male  gender_Other  gender_Unknown  \\\n",
      "0           False              1            0             0               0   \n",
      "1           False              0            1             0               0   \n",
      "2           False              0            1             0               0   \n",
      "3           False              0            1             0               0   \n",
      "4           False              1            0             0               0   \n",
      "\n",
      "   region_Midwest  region_Northeast  region_South  region_West  age  ...  \\\n",
      "0               1                 0             0            0   70  ...   \n",
      "1               1                 0             0            0   19  ...   \n",
      "2               1                 0             0            0   70  ...   \n",
      "3               1                 0             0            0   75  ...   \n",
      "4               1                 0             0            0   79  ...   \n",
      "\n",
      "    wbc  temperature  respiratoryrate  sodium  heartrate   ph  pao2   bun  \\\n",
      "0  14.7         36.1             30.0   139.0      140.0 -1.0  -1.0  27.0   \n",
      "1  -1.0         36.7             16.0    -1.0       60.0 -1.0  -1.0  -1.0   \n",
      "2  12.8         36.6             28.0   140.0      120.0 -1.0  -1.0  48.0   \n",
      "3   9.8         37.1              6.0   139.0       94.0 -1.0  -1.0  13.0   \n",
      "4  13.5         36.6             15.0   140.0       94.0 -1.0  -1.0  15.0   \n",
      "\n",
      "   bilirubin  fio2  \n",
      "0        4.1  -1.0  \n",
      "1       -1.0  -1.0  \n",
      "2       -1.0  -1.0  \n",
      "3       -1.0  -1.0  \n",
      "4        0.8  -1.0  \n",
      "\n",
      "[5 rows x 26 columns]\n",
      "Index(['teachingstatus', 'gender_Female', 'gender_Male', 'gender_Other',\n",
      "       'gender_Unknown', 'region_Midwest', 'region_Northeast', 'region_South',\n",
      "       'region_West', 'age', 'hospitalid', 'vent', 'eyes', 'motor', 'verbal',\n",
      "       'urine', 'wbc', 'temperature', 'respiratoryrate', 'sodium', 'heartrate',\n",
      "       'ph', 'pao2', 'bun', 'bilirubin', 'fio2'],\n",
      "      dtype='object')\n",
      "[[ 3086   851]\n",
      " [ 8613 29728]]\n",
      "0.8626813697040048\n"
     ]
    },
    {
     "ename": "ValueError",
     "evalue": "Only one class present in y_true. ROC AUC score is not defined in that case.",
     "output_type": "error",
     "traceback": [
      "\u001b[1;31m---------------------------------------------------------------------------\u001b[0m",
      "\u001b[1;31mValueError\u001b[0m                                Traceback (most recent call last)",
      "\u001b[1;32m<ipython-input-18-02a004adc961>\u001b[0m in \u001b[0;36m<module>\u001b[1;34m\u001b[0m\n\u001b[0;32m     68\u001b[0m     \u001b[0mf1\u001b[0m \u001b[1;33m=\u001b[0m \u001b[0mf1_score\u001b[0m\u001b[1;33m(\u001b[0m\u001b[0mY_test\u001b[0m\u001b[1;33m,\u001b[0m\u001b[0mpred\u001b[0m\u001b[1;33m)\u001b[0m\u001b[1;33m\u001b[0m\u001b[1;33m\u001b[0m\u001b[0m\n\u001b[0;32m     69\u001b[0m     \u001b[0mprint\u001b[0m\u001b[1;33m(\u001b[0m\u001b[0mf1\u001b[0m\u001b[1;33m)\u001b[0m\u001b[1;33m\u001b[0m\u001b[1;33m\u001b[0m\u001b[0m\n\u001b[1;32m---> 70\u001b[1;33m     \u001b[0mauroc\u001b[0m \u001b[1;33m=\u001b[0m \u001b[0mroc_auc_score\u001b[0m\u001b[1;33m(\u001b[0m\u001b[0my_test\u001b[0m\u001b[1;33m,\u001b[0m \u001b[0mpred\u001b[0m\u001b[1;33m)\u001b[0m\u001b[1;33m\u001b[0m\u001b[1;33m\u001b[0m\u001b[0m\n\u001b[0m\u001b[0;32m     71\u001b[0m     \u001b[0mprint\u001b[0m\u001b[1;33m(\u001b[0m\u001b[0mauroc\u001b[0m\u001b[1;33m)\u001b[0m\u001b[1;33m\u001b[0m\u001b[1;33m\u001b[0m\u001b[0m\n\u001b[0;32m     72\u001b[0m     \u001b[0my\u001b[0m \u001b[1;33m=\u001b[0m \u001b[0mto_categorical\u001b[0m\u001b[1;33m(\u001b[0m\u001b[0mY_test\u001b[0m\u001b[1;33m,\u001b[0m\u001b[1;36m2\u001b[0m\u001b[1;33m)\u001b[0m\u001b[1;33m\u001b[0m\u001b[1;33m\u001b[0m\u001b[0m\n",
      "\u001b[1;32m~\\Anaconda3\\lib\\site-packages\\sklearn\\metrics\\ranking.py\u001b[0m in \u001b[0;36mroc_auc_score\u001b[1;34m(y_true, y_score, average, sample_weight, max_fpr)\u001b[0m\n\u001b[0;32m    353\u001b[0m     return _average_binary_score(\n\u001b[0;32m    354\u001b[0m         \u001b[0m_binary_roc_auc_score\u001b[0m\u001b[1;33m,\u001b[0m \u001b[0my_true\u001b[0m\u001b[1;33m,\u001b[0m \u001b[0my_score\u001b[0m\u001b[1;33m,\u001b[0m \u001b[0maverage\u001b[0m\u001b[1;33m,\u001b[0m\u001b[1;33m\u001b[0m\u001b[1;33m\u001b[0m\u001b[0m\n\u001b[1;32m--> 355\u001b[1;33m         sample_weight=sample_weight)\n\u001b[0m\u001b[0;32m    356\u001b[0m \u001b[1;33m\u001b[0m\u001b[0m\n\u001b[0;32m    357\u001b[0m \u001b[1;33m\u001b[0m\u001b[0m\n",
      "\u001b[1;32m~\\Anaconda3\\lib\\site-packages\\sklearn\\metrics\\base.py\u001b[0m in \u001b[0;36m_average_binary_score\u001b[1;34m(binary_metric, y_true, y_score, average, sample_weight)\u001b[0m\n\u001b[0;32m     74\u001b[0m \u001b[1;33m\u001b[0m\u001b[0m\n\u001b[0;32m     75\u001b[0m     \u001b[1;32mif\u001b[0m \u001b[0my_type\u001b[0m \u001b[1;33m==\u001b[0m \u001b[1;34m\"binary\"\u001b[0m\u001b[1;33m:\u001b[0m\u001b[1;33m\u001b[0m\u001b[1;33m\u001b[0m\u001b[0m\n\u001b[1;32m---> 76\u001b[1;33m         \u001b[1;32mreturn\u001b[0m \u001b[0mbinary_metric\u001b[0m\u001b[1;33m(\u001b[0m\u001b[0my_true\u001b[0m\u001b[1;33m,\u001b[0m \u001b[0my_score\u001b[0m\u001b[1;33m,\u001b[0m \u001b[0msample_weight\u001b[0m\u001b[1;33m=\u001b[0m\u001b[0msample_weight\u001b[0m\u001b[1;33m)\u001b[0m\u001b[1;33m\u001b[0m\u001b[1;33m\u001b[0m\u001b[0m\n\u001b[0m\u001b[0;32m     77\u001b[0m \u001b[1;33m\u001b[0m\u001b[0m\n\u001b[0;32m     78\u001b[0m     \u001b[0mcheck_consistent_length\u001b[0m\u001b[1;33m(\u001b[0m\u001b[0my_true\u001b[0m\u001b[1;33m,\u001b[0m \u001b[0my_score\u001b[0m\u001b[1;33m,\u001b[0m \u001b[0msample_weight\u001b[0m\u001b[1;33m)\u001b[0m\u001b[1;33m\u001b[0m\u001b[1;33m\u001b[0m\u001b[0m\n",
      "\u001b[1;32m~\\Anaconda3\\lib\\site-packages\\sklearn\\metrics\\ranking.py\u001b[0m in \u001b[0;36m_binary_roc_auc_score\u001b[1;34m(y_true, y_score, sample_weight)\u001b[0m\n\u001b[0;32m    321\u001b[0m     \u001b[1;32mdef\u001b[0m \u001b[0m_binary_roc_auc_score\u001b[0m\u001b[1;33m(\u001b[0m\u001b[0my_true\u001b[0m\u001b[1;33m,\u001b[0m \u001b[0my_score\u001b[0m\u001b[1;33m,\u001b[0m \u001b[0msample_weight\u001b[0m\u001b[1;33m=\u001b[0m\u001b[1;32mNone\u001b[0m\u001b[1;33m)\u001b[0m\u001b[1;33m:\u001b[0m\u001b[1;33m\u001b[0m\u001b[1;33m\u001b[0m\u001b[0m\n\u001b[0;32m    322\u001b[0m         \u001b[1;32mif\u001b[0m \u001b[0mlen\u001b[0m\u001b[1;33m(\u001b[0m\u001b[0mnp\u001b[0m\u001b[1;33m.\u001b[0m\u001b[0munique\u001b[0m\u001b[1;33m(\u001b[0m\u001b[0my_true\u001b[0m\u001b[1;33m)\u001b[0m\u001b[1;33m)\u001b[0m \u001b[1;33m!=\u001b[0m \u001b[1;36m2\u001b[0m\u001b[1;33m:\u001b[0m\u001b[1;33m\u001b[0m\u001b[1;33m\u001b[0m\u001b[0m\n\u001b[1;32m--> 323\u001b[1;33m             raise ValueError(\"Only one class present in y_true. ROC AUC score \"\n\u001b[0m\u001b[0;32m    324\u001b[0m                              \"is not defined in that case.\")\n\u001b[0;32m    325\u001b[0m \u001b[1;33m\u001b[0m\u001b[0m\n",
      "\u001b[1;31mValueError\u001b[0m: Only one class present in y_true. ROC AUC score is not defined in that case."
     ]
    }
   ],
   "source": [
    "from xgboost import XGBClassifier\n",
    "from keras.utils import to_categorical\n",
    "from sklearn.metrics import log_loss\n",
    "import matplotlib.pyplot as plt\n",
    "\n",
    "X_temp1 = result2\n",
    "X_temp1 = X_temp1[X_temp1.hospitaldischargestatus != '']\n",
    "# X_temp=X_temp.dropna()\n",
    "\n",
    "# Mean Imputation for Age\n",
    "X_temp1.replace({'age': {'': '0','> 89': '91'}},inplace=True)\n",
    "X_temp1 = X_temp1.astype({\"age\": np.int})\n",
    "X_temp1.replace({'age': {0: int(X_temp1.age.mean())}},inplace=True)\n",
    "# print(X_temp.age.unique())\n",
    "\n",
    "# Removing age below 18\n",
    "X_temp1 = X_temp1[X_temp1.age >= 18]\n",
    "\n",
    "# Removing records with no gender given\n",
    "X_temp1 = X_temp1[X_temp1.gender != '']\n",
    "\n",
    "hds = pd.DataFrame(X_temp1.hospitaldischargestatus.map({'Alive': 1, 'Expired': 0}))\n",
    "\n",
    "X_temp1[\"hospitaldischargestatus\"] = hds[\"hospitaldischargestatus\"]\n",
    "\n",
    "X_alive = X_temp1.loc[X_temp1['hospitaldischargestatus'] == 1]\n",
    "X_expired = X_temp1.loc[X_temp1['hospitaldischargestatus'] == 0]\n",
    "\n",
    "# X_alive_restricted = X_alive.tail(16000)\n",
    "\n",
    "# X_temp1 = X_alive_restricted.append(X_expired)\n",
    "\n",
    "X = pd.DataFrame(X_temp1.drop(['patientunitstayid'],axis=1))\n",
    "Y = pd.DataFrame(X_temp1['hospitaldischargestatus'])                \n",
    "X = pd.DataFrame(X.drop(['hospitaldischargestatus'],axis=1))\n",
    "\n",
    "X = pd.DataFrame(X.drop(['numbedscategory'],axis=1))\n",
    "\n",
    "X_cat = X.select_dtypes(exclude=['int64', 'float64'])                                                                                                         \n",
    "X_dog = X.select_dtypes(include=['int64', 'float64'])                                                                                                         \n",
    "\n",
    "X_cat = pd.get_dummies(X_cat)                                                                                                                                 \n",
    "\n",
    "X=pd.concat([X_cat,X_dog],axis=1)\n",
    "\n",
    "print(X.head())\n",
    "\n",
    "# Y = pd.DataFrame(Y.hospitaldischargestatus.map({'Alive': 1, 'Expired': 0}))\n",
    "\n",
    "# print(X.head())\n",
    "# print()\n",
    "negative_class = len(X_alive.index)\n",
    "positivue_class = len(X_expired.index)\n",
    "\n",
    "X_train, X_test, Y_train, Y_test = train_test_split(X, Y.iloc[:,0].values)\n",
    "\n",
    "print(X_train.columns)\n",
    "s = [100,500,600,900,1250]\n",
    "loss_dict = {}\n",
    "weight = positivue_class/negative_class\n",
    "for i in s:\n",
    "    xgb_c = XGBClassifier(max_depth=3, n_estimators=i, n_jobs=-1,scale_pos_weight=weight)\n",
    "    xgb_c.fit(X_train, Y_train,)\n",
    "    pred = xgb_c.predict(X_test)\n",
    "    \n",
    "    print(confusion_matrix(Y_test,pred))\n",
    "    \n",
    "    f1 = f1_score(Y_test,pred)\n",
    "    print(f1)\n",
    "    auroc = roc_auc_score(y_test, pred)\n",
    "    print(auroc)\n",
    "    y = to_categorical(Y_test,2)\n",
    "    pred = to_categorical(pred,2)\n",
    "    y=y.astype(np.uint8)\n",
    "    \n",
    "    Loss = log_loss(y,pred)\n",
    "    print(Loss)\n",
    "    loss_dict[i]= Loss"
   ]
  },
  {
   "cell_type": "code",
   "execution_count": null,
   "metadata": {},
   "outputs": [],
   "source": [
    "#  Readmission\n",
    "plt.figure(figsize = (16,10))\n",
    "plt.scatter([tree for tree in s], [loss_dict[tree] for tree in s])\n",
    "plt.plot([tree for tree in s], [loss_dict[tree] for tree in s])\n",
    "plt.title('Loss for XGBOOST Package')\n",
    "plt.xlabel('Trees')\n",
    "plt.ylabel('Loss')\n",
    "plt.show()\n"
   ]
  },
  {
   "cell_type": "code",
   "execution_count": null,
   "metadata": {},
   "outputs": [],
   "source": [
    "# retrospective model\n",
    "\n",
    "diagnosis = pd.read_sql('Select patientunitstayid,icd9code from eicuu.diagnosis limit 100',cnx)\n",
    "diagnosis_len = len(diagnosis.index)\n",
    "print(diagnosis_len)"
   ]
  },
  {
   "cell_type": "code",
   "execution_count": null,
   "metadata": {},
   "outputs": [],
   "source": [
    "diagnosis_len = len(diagnosis.index)\n",
    "dictionary = {}\n",
    "\n",
    "for i in range(diagnosis_len):\n",
    "    dictionary[diagnosis.iloc[i][0]]=[]\n",
    "    \n",
    "# print(dictionary[141168])"
   ]
  },
  {
   "cell_type": "code",
   "execution_count": null,
   "metadata": {},
   "outputs": [],
   "source": [
    "count=0\n",
    "for i in range(diagnosis_len):\n",
    "    count+=1\n",
    "    print(count)\n",
    "    codes = diagnosis.iloc[i][1].split(',')\n",
    "    icd9 = codes[0]\n",
    "    icd9= icd9.strip()\n",
    "    if icd9!=\"\" and icd9[0].isdigit():\n",
    "        dictionary[diagnosis.iloc[i][0]].append(icd9)"
   ]
  },
  {
   "cell_type": "code",
   "execution_count": null,
   "metadata": {},
   "outputs": [],
   "source": [
    "print(dictionary)"
   ]
  },
  {
   "cell_type": "code",
   "execution_count": null,
   "metadata": {},
   "outputs": [],
   "source": [
    "df = pd.DataFrame(list(dictionary.items()), columns=['patientunitstayid', 'icd9'])\n",
    "\n",
    "df.to_csv(\"patient_icd.csv\")"
   ]
  },
  {
   "cell_type": "code",
   "execution_count": null,
   "metadata": {},
   "outputs": [],
   "source": [
    "print(df.tail(200))"
   ]
  },
  {
   "cell_type": "code",
   "execution_count": null,
   "metadata": {},
   "outputs": [],
   "source": [
    "# df.to_dict(\"list\")\n",
    "d = {}\n",
    "for i in df['patientunitstayid'].unique():\n",
    "    d[i] = [df['icd9'][j] for j in df[df['patientunitstayid']==i].index]"
   ]
  },
  {
   "cell_type": "code",
   "execution_count": null,
   "metadata": {},
   "outputs": [],
   "source": [
    "print(d[141168][0])"
   ]
  },
  {
   "cell_type": "code",
   "execution_count": null,
   "metadata": {},
   "outputs": [],
   "source": []
  }
 ],
 "metadata": {
  "kernelspec": {
   "display_name": "Python 3",
   "language": "python",
   "name": "python3"
  },
  "language_info": {
   "codemirror_mode": {
    "name": "ipython",
    "version": 3
   },
   "file_extension": ".py",
   "mimetype": "text/x-python",
   "name": "python",
   "nbconvert_exporter": "python",
   "pygments_lexer": "ipython3",
   "version": "3.7.5"
  }
 },
 "nbformat": 4,
 "nbformat_minor": 2
}
